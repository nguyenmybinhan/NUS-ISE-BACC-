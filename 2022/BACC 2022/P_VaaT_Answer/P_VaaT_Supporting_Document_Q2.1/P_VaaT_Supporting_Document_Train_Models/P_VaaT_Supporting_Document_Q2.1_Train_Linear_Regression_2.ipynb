{
 "cells": [
  {
   "cell_type": "code",
   "execution_count": 1,
   "metadata": {},
   "outputs": [],
   "source": [
    "import numpy as np\n",
    "import pandas as pd"
   ]
  },
  {
   "cell_type": "code",
   "execution_count": 4,
   "metadata": {},
   "outputs": [
    {
     "data": {
      "text/html": [
       "<div>\n",
       "<style scoped>\n",
       "    .dataframe tbody tr th:only-of-type {\n",
       "        vertical-align: middle;\n",
       "    }\n",
       "\n",
       "    .dataframe tbody tr th {\n",
       "        vertical-align: top;\n",
       "    }\n",
       "\n",
       "    .dataframe thead th {\n",
       "        text-align: right;\n",
       "    }\n",
       "</style>\n",
       "<table border=\"1\" class=\"dataframe\">\n",
       "  <thead>\n",
       "    <tr style=\"text-align: right;\">\n",
       "      <th></th>\n",
       "      <th>Year</th>\n",
       "      <th>Week</th>\n",
       "      <th>Product A (historical)</th>\n",
       "      <th>t</th>\n",
       "      <th>c</th>\n",
       "      <th>1</th>\n",
       "      <th>2</th>\n",
       "      <th>3</th>\n",
       "      <th>4</th>\n",
       "      <th>5</th>\n",
       "      <th>...</th>\n",
       "      <th>42</th>\n",
       "      <th>43</th>\n",
       "      <th>44</th>\n",
       "      <th>45</th>\n",
       "      <th>46</th>\n",
       "      <th>47</th>\n",
       "      <th>48</th>\n",
       "      <th>49</th>\n",
       "      <th>50</th>\n",
       "      <th>51</th>\n",
       "    </tr>\n",
       "  </thead>\n",
       "  <tbody>\n",
       "    <tr>\n",
       "      <th>0</th>\n",
       "      <td>2017</td>\n",
       "      <td>1</td>\n",
       "      <td>29030</td>\n",
       "      <td>1</td>\n",
       "      <td>1</td>\n",
       "      <td>1</td>\n",
       "      <td>0</td>\n",
       "      <td>0</td>\n",
       "      <td>0</td>\n",
       "      <td>0</td>\n",
       "      <td>...</td>\n",
       "      <td>0</td>\n",
       "      <td>0</td>\n",
       "      <td>0</td>\n",
       "      <td>0</td>\n",
       "      <td>0</td>\n",
       "      <td>0</td>\n",
       "      <td>0</td>\n",
       "      <td>0</td>\n",
       "      <td>0</td>\n",
       "      <td>0</td>\n",
       "    </tr>\n",
       "    <tr>\n",
       "      <th>1</th>\n",
       "      <td>2017</td>\n",
       "      <td>2</td>\n",
       "      <td>28930</td>\n",
       "      <td>2</td>\n",
       "      <td>1</td>\n",
       "      <td>0</td>\n",
       "      <td>1</td>\n",
       "      <td>0</td>\n",
       "      <td>0</td>\n",
       "      <td>0</td>\n",
       "      <td>...</td>\n",
       "      <td>0</td>\n",
       "      <td>0</td>\n",
       "      <td>0</td>\n",
       "      <td>0</td>\n",
       "      <td>0</td>\n",
       "      <td>0</td>\n",
       "      <td>0</td>\n",
       "      <td>0</td>\n",
       "      <td>0</td>\n",
       "      <td>0</td>\n",
       "    </tr>\n",
       "    <tr>\n",
       "      <th>2</th>\n",
       "      <td>2017</td>\n",
       "      <td>3</td>\n",
       "      <td>28830</td>\n",
       "      <td>3</td>\n",
       "      <td>1</td>\n",
       "      <td>0</td>\n",
       "      <td>0</td>\n",
       "      <td>1</td>\n",
       "      <td>0</td>\n",
       "      <td>0</td>\n",
       "      <td>...</td>\n",
       "      <td>0</td>\n",
       "      <td>0</td>\n",
       "      <td>0</td>\n",
       "      <td>0</td>\n",
       "      <td>0</td>\n",
       "      <td>0</td>\n",
       "      <td>0</td>\n",
       "      <td>0</td>\n",
       "      <td>0</td>\n",
       "      <td>0</td>\n",
       "    </tr>\n",
       "    <tr>\n",
       "      <th>3</th>\n",
       "      <td>2017</td>\n",
       "      <td>4</td>\n",
       "      <td>29020</td>\n",
       "      <td>4</td>\n",
       "      <td>1</td>\n",
       "      <td>0</td>\n",
       "      <td>0</td>\n",
       "      <td>0</td>\n",
       "      <td>1</td>\n",
       "      <td>0</td>\n",
       "      <td>...</td>\n",
       "      <td>0</td>\n",
       "      <td>0</td>\n",
       "      <td>0</td>\n",
       "      <td>0</td>\n",
       "      <td>0</td>\n",
       "      <td>0</td>\n",
       "      <td>0</td>\n",
       "      <td>0</td>\n",
       "      <td>0</td>\n",
       "      <td>0</td>\n",
       "    </tr>\n",
       "    <tr>\n",
       "      <th>4</th>\n",
       "      <td>2017</td>\n",
       "      <td>5</td>\n",
       "      <td>27000</td>\n",
       "      <td>5</td>\n",
       "      <td>1</td>\n",
       "      <td>0</td>\n",
       "      <td>0</td>\n",
       "      <td>0</td>\n",
       "      <td>0</td>\n",
       "      <td>1</td>\n",
       "      <td>...</td>\n",
       "      <td>0</td>\n",
       "      <td>0</td>\n",
       "      <td>0</td>\n",
       "      <td>0</td>\n",
       "      <td>0</td>\n",
       "      <td>0</td>\n",
       "      <td>0</td>\n",
       "      <td>0</td>\n",
       "      <td>0</td>\n",
       "      <td>0</td>\n",
       "    </tr>\n",
       "  </tbody>\n",
       "</table>\n",
       "<p>5 rows × 56 columns</p>\n",
       "</div>"
      ],
      "text/plain": [
       "   Year  Week  Product A (historical)  t  c  1  2  3  4  5  ...  42  43  44  \\\n",
       "0  2017     1                   29030  1  1  1  0  0  0  0  ...   0   0   0   \n",
       "1  2017     2                   28930  2  1  0  1  0  0  0  ...   0   0   0   \n",
       "2  2017     3                   28830  3  1  0  0  1  0  0  ...   0   0   0   \n",
       "3  2017     4                   29020  4  1  0  0  0  1  0  ...   0   0   0   \n",
       "4  2017     5                   27000  5  1  0  0  0  0  1  ...   0   0   0   \n",
       "\n",
       "   45  46  47  48  49  50  51  \n",
       "0   0   0   0   0   0   0   0  \n",
       "1   0   0   0   0   0   0   0  \n",
       "2   0   0   0   0   0   0   0  \n",
       "3   0   0   0   0   0   0   0  \n",
       "4   0   0   0   0   0   0   0  \n",
       "\n",
       "[5 rows x 56 columns]"
      ]
     },
     "execution_count": 4,
     "metadata": {},
     "output_type": "execute_result"
    }
   ],
   "source": [
    "data_df = pd.read_csv(r\"P_VaaT_Supporting_Document_Q2.1_Train_Linear_Regression_1.csv\")\n",
    "data_df.head()"
   ]
  },
  {
   "cell_type": "code",
   "execution_count": 5,
   "metadata": {},
   "outputs": [],
   "source": [
    "x = data_df.drop([\"Year\", \"Week\", \"Product A (historical)\"], axis=1).values\n",
    "y = data_df[\"Product A (historical)\"].values"
   ]
  },
  {
   "cell_type": "code",
   "execution_count": 15,
   "metadata": {},
   "outputs": [],
   "source": [
    "# x_train = x[:183]\n",
    "# y_train = y[:183]\n",
    "# x_test = y[183:]\n",
    "# y_test = y[183:]\n",
    "\n",
    "from sklearn.model_selection import train_test_split\n",
    "x_train, x_test, y_train, y_test = train_test_split(x, y, test_size=0.3, random_state=None, shuffle=False)"
   ]
  },
  {
   "cell_type": "code",
   "execution_count": 17,
   "metadata": {},
   "outputs": [
    {
     "data": {
      "text/plain": [
       "LinearRegression(copy_X=True, fit_intercept=True, n_jobs=None,\n",
       "         normalize=False)"
      ]
     },
     "execution_count": 17,
     "metadata": {},
     "output_type": "execute_result"
    }
   ],
   "source": [
    "from sklearn.linear_model import LinearRegression\n",
    "ml=LinearRegression()\n",
    "ml.fit(x_train, y_train)"
   ]
  },
  {
   "cell_type": "code",
   "execution_count": 18,
   "metadata": {},
   "outputs": [
    {
     "name": "stdout",
     "output_type": "stream",
     "text": [
      "[38859.3040293  39165.97069597 38489.3040293  39039.3040293\n",
      " 38265.97069597 38035.97069597 38122.63736264 38722.63736264\n",
      " 39682.63736264 40932.63736264 40755.97069597 40242.63736264\n",
      " 40229.3040293  38929.3040293  40469.3040293  39769.3040293\n",
      " 39362.63736264 39742.63736264 40219.3040293  40885.97069597\n",
      " 41402.63736264 41542.63736264 41815.97069597 42065.97069597\n",
      " 41809.3040293  41309.3040293  40668.2967033  39560.7967033\n",
      " 39753.2967033  38965.7967033  38440.7967033  38325.7967033\n",
      " 38805.7967033  38810.7967033  39200.7967033  38090.7967033\n",
      " 38428.2967033  37788.2967033  37575.7967033  37505.7967033\n",
      " 37343.2967033  38070.7967033  37958.2967033  38430.7967033\n",
      " 37515.7967033  38920.7967033  38710.7967033  38943.2967033\n",
      " 40278.2967033  40023.2967033  40115.7967033  40068.2967033\n",
      " 40925.62271062 41232.28937729 40555.62271062 41105.62271062\n",
      " 40332.28937729 40102.28937729 40188.95604396 40788.95604396\n",
      " 41748.95604396 42998.95604396 42822.28937729 42308.95604396\n",
      " 42295.62271062 40995.62271062 42535.62271062 41835.62271062\n",
      " 41428.95604396 41808.95604396 42285.62271062 42952.28937729\n",
      " 43468.95604396 43608.95604396 43882.28937729 44132.28937729\n",
      " 43875.62271062 43375.62271062]\n"
     ]
    }
   ],
   "source": [
    "y_pred = ml.predict(x_test)\n",
    "print(y_pred)"
   ]
  },
  {
   "cell_type": "code",
   "execution_count": 19,
   "metadata": {},
   "outputs": [
    {
     "data": {
      "text/plain": [
       "array([ 3.97368977e+01,  4.29736247e-11, -6.80744224e+02, -1.82798112e+03,\n",
       "       -1.67521802e+03, -2.50245492e+03, -3.06719181e+03, -3.22192871e+03,\n",
       "       -2.78166561e+03, -2.81640251e+03, -2.46613941e+03, -3.61587630e+03,\n",
       "       -3.31811320e+03, -3.99785010e+03, -4.25008700e+03, -4.35982389e+03,\n",
       "       -4.56206079e+03, -3.87429769e+03, -4.02653459e+03, -3.59377148e+03,\n",
       "       -4.54850838e+03, -3.18324528e+03, -3.43298218e+03, -3.24021908e+03,\n",
       "       -1.94495597e+03, -2.23969287e+03, -2.18692977e+03, -2.27416667e+03,\n",
       "       -1.45657756e+03, -1.18964779e+03, -1.90605135e+03, -1.39578825e+03,\n",
       "       -2.20885848e+03, -2.47859538e+03, -2.43166561e+03, -1.87140251e+03,\n",
       "       -9.51139405e+02,  2.59123697e+02,  4.27201324e+01, -5.10350099e+02,\n",
       "       -5.63420330e+02, -1.90315723e+03, -4.02894125e+02, -1.14263102e+03,\n",
       "       -1.58903459e+03, -1.24877148e+03, -8.11841716e+02, -1.84911947e+02,\n",
       "        2.92017822e+02,  3.92280924e+02,  6.25877360e+02,  8.36140462e+02,\n",
       "        5.39736898e+02])"
      ]
     },
     "execution_count": 19,
     "metadata": {},
     "output_type": "execute_result"
    }
   ],
   "source": [
    "ml.coef_"
   ]
  },
  {
   "cell_type": "code",
   "execution_count": 20,
   "metadata": {},
   "outputs": [
    {
     "data": {
      "text/plain": [
       "33044.02930402926"
      ]
     },
     "execution_count": 20,
     "metadata": {},
     "output_type": "execute_result"
    }
   ],
   "source": [
    "ml.intercept_"
   ]
  },
  {
   "cell_type": "code",
   "execution_count": 21,
   "metadata": {},
   "outputs": [
    {
     "data": {
      "text/plain": [
       "-0.20198571673153265"
      ]
     },
     "execution_count": 21,
     "metadata": {},
     "output_type": "execute_result"
    }
   ],
   "source": [
    "from sklearn.metrics import r2_score\n",
    "r2_score(y_test, y_pred)"
   ]
  },
  {
   "cell_type": "code",
   "execution_count": 24,
   "metadata": {},
   "outputs": [
    {
     "data": {
      "text/html": [
       "<div>\n",
       "<style scoped>\n",
       "    .dataframe tbody tr th:only-of-type {\n",
       "        vertical-align: middle;\n",
       "    }\n",
       "\n",
       "    .dataframe tbody tr th {\n",
       "        vertical-align: top;\n",
       "    }\n",
       "\n",
       "    .dataframe thead th {\n",
       "        text-align: right;\n",
       "    }\n",
       "</style>\n",
       "<table border=\"1\" class=\"dataframe\">\n",
       "  <thead>\n",
       "    <tr style=\"text-align: right;\">\n",
       "      <th></th>\n",
       "      <th>Actual Value</th>\n",
       "      <th>Difference</th>\n",
       "      <th>Predicted</th>\n",
       "    </tr>\n",
       "  </thead>\n",
       "  <tbody>\n",
       "    <tr>\n",
       "      <th>0</th>\n",
       "      <td>33340</td>\n",
       "      <td>-5519.304029</td>\n",
       "      <td>38859.304029</td>\n",
       "    </tr>\n",
       "    <tr>\n",
       "      <th>1</th>\n",
       "      <td>33330</td>\n",
       "      <td>-5835.970696</td>\n",
       "      <td>39165.970696</td>\n",
       "    </tr>\n",
       "    <tr>\n",
       "      <th>2</th>\n",
       "      <td>32250</td>\n",
       "      <td>-6239.304029</td>\n",
       "      <td>38489.304029</td>\n",
       "    </tr>\n",
       "    <tr>\n",
       "      <th>3</th>\n",
       "      <td>32440</td>\n",
       "      <td>-6599.304029</td>\n",
       "      <td>39039.304029</td>\n",
       "    </tr>\n",
       "    <tr>\n",
       "      <th>4</th>\n",
       "      <td>33900</td>\n",
       "      <td>-4365.970696</td>\n",
       "      <td>38265.970696</td>\n",
       "    </tr>\n",
       "  </tbody>\n",
       "</table>\n",
       "</div>"
      ],
      "text/plain": [
       "   Actual Value   Difference     Predicted\n",
       "0         33340 -5519.304029  38859.304029\n",
       "1         33330 -5835.970696  39165.970696\n",
       "2         32250 -6239.304029  38489.304029\n",
       "3         32440 -6599.304029  39039.304029\n",
       "4         33900 -4365.970696  38265.970696"
      ]
     },
     "execution_count": 24,
     "metadata": {},
     "output_type": "execute_result"
    }
   ],
   "source": [
    "pred_y_df = pd.DataFrame({\"Actual Value\": y_test, \"Predicted\": y_pred, \"Difference\":y_test-y_pred})\n",
    "pred_y_df.head()"
   ]
  },
  {
   "cell_type": "code",
   "execution_count": 26,
   "metadata": {},
   "outputs": [],
   "source": [
    "pred_y_df.to_csv(\"P_VaaT_Supporting_Documents_Q2.1_Forecast_Linear_Regression.csv\")"
   ]
  },
  {
   "cell_type": "code",
   "execution_count": null,
   "metadata": {},
   "outputs": [],
   "source": []
  }
 ],
 "metadata": {
  "interpreter": {
   "hash": "767d51c1340bd893661ea55ea3124f6de3c7a262a8b4abca0554b478b1e2ff90"
  },
  "kernelspec": {
   "display_name": "Python 2.7.16 64-bit",
   "name": "python3"
  },
  "language_info": {
   "codemirror_mode": {
    "name": "ipython",
    "version": 2
   },
   "file_extension": ".py",
   "mimetype": "text/x-python",
   "name": "python",
   "nbconvert_exporter": "python",
   "pygments_lexer": "ipython2",
   "version": "2.7.16"
  },
  "orig_nbformat": 4
 },
 "nbformat": 4,
 "nbformat_minor": 2
}
